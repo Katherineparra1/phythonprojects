{
  "nbformat": 4,
  "nbformat_minor": 0,
  "metadata": {
    "colab": {
      "name": "Copy of Unit2_Intro_Assignment_1.ipynb",
      "provenance": [],
      "collapsed_sections": [],
      "include_colab_link": true
    },
    "kernelspec": {
      "name": "python3",
      "display_name": "Python 3"
    }
  },
  "cells": [
    {
      "cell_type": "markdown",
      "metadata": {
        "id": "view-in-github",
        "colab_type": "text"
      },
      "source": [
        "<a href=\"https://colab.research.google.com/github/Katherineparra1/pythonprojects/blob/main/Copy_of_Unit2_Intro_Assignment_1.ipynb\" target=\"_parent\"><img src=\"https://colab.research.google.com/assets/colab-badge.svg\" alt=\"Open In Colab\"/></a>"
      ]
    },
    {
      "cell_type": "markdown",
      "metadata": {
        "id": "Vgs8Kp4TidFQ"
      },
      "source": [
        "# Lesson 1 - Intrdouction to Python - Assignment 1\n",
        "\n",
        "> Indented block\n",
        "\n"
      ]
    },
    {
      "cell_type": "markdown",
      "metadata": {
        "id": "_Hq7Ny79iwgD"
      },
      "source": [
        "## 1.\tWhat is Python and why is it useful?"
      ]
    },
    {
      "cell_type": "markdown",
      "metadata": {
        "id": "DBd0pMkDi0pv"
      },
      "source": [
        "Python is very important and common programming language that conduct complex statistical calculations , manipulate data, create data visualizations and is accesible. "
      ]
    },
    {
      "cell_type": "markdown",
      "metadata": {
        "id": "io_27RSlizno"
      },
      "source": [
        "## 2.\tAre the following variable names allowed in python?"
      ]
    },
    {
      "cell_type": "markdown",
      "metadata": {
        "id": "9_GYv9VTiqrI"
      },
      "source": [
        "a.\t1_message\n",
        "\n",
        "b.\tGreeting_message\n",
        "\n",
        "c.\tMessage_1\n",
        "\n",
        "d.\tFirst name\n",
        "\n",
        "e.\tFull_name\n",
        "\n",
        "Not all, a) can'be a variable because it starts with a number; d) can't be a variable because it has an space between ; "
      ]
    },
    {
      "cell_type": "markdown",
      "metadata": {
        "id": "b5M6t8YjjPaZ"
      },
      "source": [
        ""
      ]
    },
    {
      "cell_type": "markdown",
      "metadata": {
        "id": "DAW8m8IQjRyR"
      },
      "source": [
        "## 3.\tCreate a variable that holds the string “hello there!”"
      ]
    },
    {
      "cell_type": "code",
      "metadata": {
        "id": "guULMEhrjYtT",
        "outputId": "1a7b3098-3eda-4c32-b7ea-6ad6227a8601",
        "colab": {
          "base_uri": "https://localhost:8080/"
        }
      },
      "source": [
        "greeting = '\"hello there!\"'\n",
        "print(greeting)"
      ],
      "execution_count": null,
      "outputs": [
        {
          "output_type": "stream",
          "name": "stdout",
          "text": [
            "\"hello there!\"\n"
          ]
        }
      ]
    },
    {
      "cell_type": "markdown",
      "source": [
        ""
      ],
      "metadata": {
        "id": "OsqGNIMy-zxW"
      }
    },
    {
      "cell_type": "code",
      "metadata": {
        "id": "cv946RaOjw-G"
      },
      "source": [
        ""
      ],
      "execution_count": null,
      "outputs": []
    },
    {
      "cell_type": "markdown",
      "metadata": {
        "id": "dpa_YOt4jXyo"
      },
      "source": [
        "## 4.\tCreate a variable for first name, last name and an email extension.  Concatenating all three together to form an email address.  For example: firstnamelastname@gmail.com"
      ]
    },
    {
      "cell_type": "code",
      "metadata": {
        "id": "pltxfnh3iJLW",
        "outputId": "b9bc6a00-57af-41fc-e7c1-e2177ba6eefb",
        "colab": {
          "base_uri": "https://localhost:8080/"
        }
      },
      "source": [
        "first_name = 'Kat'\n",
        "last_name = 'Parra'\n",
        "email = '@gmail.com'\n",
        "email_address = first_name + last_name + email\n",
        "print(email_address)"
      ],
      "execution_count": null,
      "outputs": [
        {
          "output_type": "stream",
          "name": "stdout",
          "text": [
            "KatParra@gmail.com\n"
          ]
        }
      ]
    },
    {
      "cell_type": "code",
      "metadata": {
        "id": "PzH5Rcn-jwPL"
      },
      "source": [
        ""
      ],
      "execution_count": null,
      "outputs": []
    },
    {
      "cell_type": "markdown",
      "metadata": {
        "id": "Ka84RGy4jmLT"
      },
      "source": [
        "## 5.\tStore someone you know name in a variable called name.  Print their name in lower and uppercase using a method."
      ]
    },
    {
      "cell_type": "code",
      "metadata": {
        "id": "34IFFtK4jrg4",
        "outputId": "f2cc935d-56cb-49a7-dbce-16571ce86564",
        "colab": {
          "base_uri": "https://localhost:8080/"
        }
      },
      "source": [
        "name = 'vicky'\n",
        "print(name.lower())\n",
        "print(name.upper())"
      ],
      "execution_count": null,
      "outputs": [
        {
          "output_type": "stream",
          "name": "stdout",
          "text": [
            "vicky\n",
            "VICKY\n"
          ]
        }
      ]
    },
    {
      "cell_type": "code",
      "metadata": {
        "id": "M17RfxQljvqb"
      },
      "source": [
        ""
      ],
      "execution_count": null,
      "outputs": []
    },
    {
      "cell_type": "code",
      "metadata": {
        "id": "4agTp_Cyju4-"
      },
      "source": [
        ""
      ],
      "execution_count": null,
      "outputs": []
    }
  ]
}